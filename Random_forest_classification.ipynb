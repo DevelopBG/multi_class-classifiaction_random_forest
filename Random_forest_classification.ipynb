{
 "cells": [
  {
   "cell_type": "code",
   "execution_count": 11,
   "metadata": {},
   "outputs": [],
   "source": [
    "import numpy as np\n",
    "import pandas as pd\n",
    "from sklearn.ensemble import RandomForestClassifier\n",
    "from sklearn.metrics import confusion_matrix,classification_report\n"
   ]
  },
  {
   "cell_type": "code",
   "execution_count": 2,
   "metadata": {},
   "outputs": [
    {
     "data": {
      "text/html": [
       "<div>\n",
       "<style scoped>\n",
       "    .dataframe tbody tr th:only-of-type {\n",
       "        vertical-align: middle;\n",
       "    }\n",
       "\n",
       "    .dataframe tbody tr th {\n",
       "        vertical-align: top;\n",
       "    }\n",
       "\n",
       "    .dataframe thead th {\n",
       "        text-align: right;\n",
       "    }\n",
       "</style>\n",
       "<table border=\"1\" class=\"dataframe\">\n",
       "  <thead>\n",
       "    <tr style=\"text-align: right;\">\n",
       "      <th></th>\n",
       "      <th>Class</th>\n",
       "      <th>A</th>\n",
       "      <th>B</th>\n",
       "      <th>C</th>\n",
       "      <th>D</th>\n",
       "      <th>E</th>\n",
       "      <th>F</th>\n",
       "      <th>G</th>\n",
       "      <th>H</th>\n",
       "      <th>I</th>\n",
       "      <th>...</th>\n",
       "      <th>Y6</th>\n",
       "      <th>Y7</th>\n",
       "      <th>Y8</th>\n",
       "      <th>Y9</th>\n",
       "      <th>Z1</th>\n",
       "      <th>Z2</th>\n",
       "      <th>Z4</th>\n",
       "      <th>Z5</th>\n",
       "      <th>Z6</th>\n",
       "      <th>is train</th>\n",
       "    </tr>\n",
       "  </thead>\n",
       "  <tbody>\n",
       "    <tr>\n",
       "      <th>0</th>\n",
       "      <td>A</td>\n",
       "      <td>6</td>\n",
       "      <td>860.62</td>\n",
       "      <td>809.73</td>\n",
       "      <td>919.69</td>\n",
       "      <td>30.87</td>\n",
       "      <td>69.81</td>\n",
       "      <td>65.24</td>\n",
       "      <td>74.10</td>\n",
       "      <td>2.51</td>\n",
       "      <td>...</td>\n",
       "      <td>0.002757</td>\n",
       "      <td>-0.003582</td>\n",
       "      <td>0.000125</td>\n",
       "      <td>0.001961</td>\n",
       "      <td>-3.290000e-08</td>\n",
       "      <td>0.000346</td>\n",
       "      <td>0.000956</td>\n",
       "      <td>9.150000e-07</td>\n",
       "      <td>1.190000e-07</td>\n",
       "      <td>True</td>\n",
       "    </tr>\n",
       "    <tr>\n",
       "      <th>1</th>\n",
       "      <td>A</td>\n",
       "      <td>7</td>\n",
       "      <td>871.58</td>\n",
       "      <td>789.74</td>\n",
       "      <td>929.69</td>\n",
       "      <td>32.82</td>\n",
       "      <td>68.94</td>\n",
       "      <td>64.54</td>\n",
       "      <td>75.97</td>\n",
       "      <td>2.65</td>\n",
       "      <td>...</td>\n",
       "      <td>0.002757</td>\n",
       "      <td>-0.002944</td>\n",
       "      <td>0.000131</td>\n",
       "      <td>0.001932</td>\n",
       "      <td>-3.290000e-08</td>\n",
       "      <td>0.000358</td>\n",
       "      <td>0.000888</td>\n",
       "      <td>7.880000e-07</td>\n",
       "      <td>1.280000e-07</td>\n",
       "      <td>True</td>\n",
       "    </tr>\n",
       "    <tr>\n",
       "      <th>2</th>\n",
       "      <td>A</td>\n",
       "      <td>6</td>\n",
       "      <td>854.87</td>\n",
       "      <td>789.74</td>\n",
       "      <td>929.69</td>\n",
       "      <td>32.38</td>\n",
       "      <td>70.29</td>\n",
       "      <td>64.54</td>\n",
       "      <td>75.97</td>\n",
       "      <td>2.66</td>\n",
       "      <td>...</td>\n",
       "      <td>0.003168</td>\n",
       "      <td>-0.002944</td>\n",
       "      <td>0.000125</td>\n",
       "      <td>0.001628</td>\n",
       "      <td>-3.290000e-08</td>\n",
       "      <td>0.000339</td>\n",
       "      <td>0.000875</td>\n",
       "      <td>7.660000e-07</td>\n",
       "      <td>1.150000e-07</td>\n",
       "      <td>True</td>\n",
       "    </tr>\n",
       "    <tr>\n",
       "      <th>3</th>\n",
       "      <td>A</td>\n",
       "      <td>7</td>\n",
       "      <td>823.73</td>\n",
       "      <td>759.75</td>\n",
       "      <td>879.71</td>\n",
       "      <td>29.19</td>\n",
       "      <td>72.93</td>\n",
       "      <td>68.20</td>\n",
       "      <td>78.97</td>\n",
       "      <td>2.58</td>\n",
       "      <td>...</td>\n",
       "      <td>0.003168</td>\n",
       "      <td>-0.002490</td>\n",
       "      <td>0.000116</td>\n",
       "      <td>0.001572</td>\n",
       "      <td>-3.290000e-08</td>\n",
       "      <td>0.000308</td>\n",
       "      <td>0.000856</td>\n",
       "      <td>7.330000e-07</td>\n",
       "      <td>9.480000e-08</td>\n",
       "      <td>True</td>\n",
       "    </tr>\n",
       "    <tr>\n",
       "      <th>4</th>\n",
       "      <td>A</td>\n",
       "      <td>6</td>\n",
       "      <td>823.44</td>\n",
       "      <td>759.75</td>\n",
       "      <td>879.71</td>\n",
       "      <td>28.98</td>\n",
       "      <td>72.96</td>\n",
       "      <td>68.20</td>\n",
       "      <td>78.97</td>\n",
       "      <td>2.56</td>\n",
       "      <td>...</td>\n",
       "      <td>0.003091</td>\n",
       "      <td>-0.002601</td>\n",
       "      <td>0.000126</td>\n",
       "      <td>0.001596</td>\n",
       "      <td>-3.290000e-08</td>\n",
       "      <td>0.000318</td>\n",
       "      <td>0.000913</td>\n",
       "      <td>8.330000e-07</td>\n",
       "      <td>1.010000e-07</td>\n",
       "      <td>True</td>\n",
       "    </tr>\n",
       "  </tbody>\n",
       "</table>\n",
       "<p>5 rows × 43 columns</p>\n",
       "</div>"
      ],
      "text/plain": [
       "  Class  A       B       C       D      E      F      G      H     I  ...  \\\n",
       "0     A  6  860.62  809.73  919.69  30.87  69.81  65.24  74.10  2.51  ...   \n",
       "1     A  7  871.58  789.74  929.69  32.82  68.94  64.54  75.97  2.65  ...   \n",
       "2     A  6  854.87  789.74  929.69  32.38  70.29  64.54  75.97  2.66  ...   \n",
       "3     A  7  823.73  759.75  879.71  29.19  72.93  68.20  78.97  2.58  ...   \n",
       "4     A  6  823.44  759.75  879.71  28.98  72.96  68.20  78.97  2.56  ...   \n",
       "\n",
       "         Y6        Y7        Y8        Y9            Z1        Z2        Z4  \\\n",
       "0  0.002757 -0.003582  0.000125  0.001961 -3.290000e-08  0.000346  0.000956   \n",
       "1  0.002757 -0.002944  0.000131  0.001932 -3.290000e-08  0.000358  0.000888   \n",
       "2  0.003168 -0.002944  0.000125  0.001628 -3.290000e-08  0.000339  0.000875   \n",
       "3  0.003168 -0.002490  0.000116  0.001572 -3.290000e-08  0.000308  0.000856   \n",
       "4  0.003091 -0.002601  0.000126  0.001596 -3.290000e-08  0.000318  0.000913   \n",
       "\n",
       "             Z5            Z6  is train  \n",
       "0  9.150000e-07  1.190000e-07      True  \n",
       "1  7.880000e-07  1.280000e-07      True  \n",
       "2  7.660000e-07  1.150000e-07      True  \n",
       "3  7.330000e-07  9.480000e-08      True  \n",
       "4  8.330000e-07  1.010000e-07      True  \n",
       "\n",
       "[5 rows x 43 columns]"
      ]
     },
     "execution_count": 2,
     "metadata": {},
     "output_type": "execute_result"
    }
   ],
   "source": [
    "data= pd.read_csv(r'D:\\AI_ML_DL\\Data&Python_code\\DATA\\CSV_file\\Test_Data1.csv')\n",
    "daf=pd.DataFrame(data)\n",
    "#creating test-train data,\n",
    "daf['is train']=np.random.uniform(0,1,len(daf))<=.75      \n",
    "daf.head()"
   ]
  },
  {
   "cell_type": "code",
   "execution_count": 3,
   "metadata": {},
   "outputs": [
    {
     "name": "stdout",
     "output_type": "stream",
     "text": [
      "test set: 1497\n",
      "train set: 4342\n"
     ]
    }
   ],
   "source": [
    "# creating training, testing data\n",
    "train, test= daf[daf[\"is train\"]== True], daf[daf[\"is train\"]==False]\n",
    "print(\"test set:\", len(test))\n",
    "print(\"train set:\", len(train))"
   ]
  },
  {
   "cell_type": "code",
   "execution_count": 4,
   "metadata": {},
   "outputs": [
    {
     "name": "stdout",
     "output_type": "stream",
     "text": [
      "Index(['A', 'B', 'C', 'D', 'E', 'F', 'G', 'H', 'I', 'J', 'K', 'L', 'M', 'N',\n",
      "       'O', 'P', 'Q', 'R', 'X1', 'X2', 'X3', 'X4', 'X5', 'X6', 'X7', 'X8',\n",
      "       'X9', 'Y1', 'Y2', 'Y3', 'Y4', 'Y5', 'Y6', 'Y7', 'Y8', 'Y9', 'Z1', 'Z2',\n",
      "       'Z4', 'Z5', 'Z6'],\n",
      "      dtype='object')\n"
     ]
    }
   ],
   "source": [
    "Class=daf.columns[1:42] #finding the features\n",
    "print(Class)"
   ]
  },
  {
   "cell_type": "code",
   "execution_count": 5,
   "metadata": {},
   "outputs": [],
   "source": [
    "y=pd.factorize(train['Class'])[0]\n",
    "y1=pd.factorize(test['Class'])[0]"
   ]
  },
  {
   "cell_type": "code",
   "execution_count": 6,
   "metadata": {},
   "outputs": [
    {
     "name": "stderr",
     "output_type": "stream",
     "text": [
      "C:\\Users\\Banib\\Anaconda3\\lib\\site-packages\\sklearn\\ensemble\\forest.py:245: FutureWarning: The default value of n_estimators will change from 10 in version 0.20 to 100 in 0.22.\n",
      "  \"10 in version 0.20 to 100 in 0.22.\", FutureWarning)\n"
     ]
    },
    {
     "data": {
      "text/plain": [
       "RandomForestClassifier(bootstrap=True, class_weight=None, criterion='gini',\n",
       "                       max_depth=None, max_features='auto', max_leaf_nodes=None,\n",
       "                       min_impurity_decrease=0.0, min_impurity_split=None,\n",
       "                       min_samples_leaf=1, min_samples_split=2,\n",
       "                       min_weight_fraction_leaf=0.0, n_estimators=10, n_jobs=2,\n",
       "                       oob_score=False, random_state=0, verbose=0,\n",
       "                       warm_start=False)"
      ]
     },
     "execution_count": 6,
     "metadata": {},
     "output_type": "execute_result"
    }
   ],
   "source": [
    "clf=RandomForestClassifier(n_jobs=2,random_state=0)\n",
    "clf.fit(train[Class],y)"
   ]
  },
  {
   "cell_type": "code",
   "execution_count": 17,
   "metadata": {},
   "outputs": [
    {
     "name": "stdout",
     "output_type": "stream",
     "text": [
      "[[0.6 0.3 0.  0.  0.1 0. ]\n",
      " [0.4 0.2 0.2 0.  0.1 0.1]\n",
      " [0.2 0.4 0.3 0.1 0.  0. ]\n",
      " [0.4 0.2 0.4 0.  0.  0. ]\n",
      " [0.2 0.2 0.3 0.  0.1 0.2]\n",
      " [0.6 0.2 0.1 0.  0.1 0. ]\n",
      " [0.3 0.2 0.3 0.1 0.1 0. ]\n",
      " [0.4 0.2 0.3 0.  0.  0.1]\n",
      " [0.3 0.2 0.3 0.1 0.  0.1]\n",
      " [0.1 0.7 0.1 0.  0.1 0. ]]\n",
      "<class 'numpy.ndarray'> <class 'numpy.ndarray'>\n"
     ]
    }
   ],
   "source": [
    "y_pred=clf.predict(test[Class]) # doing prediction\n",
    "prediction=clf.predict_proba(test[Class])[0:10] # visualization of prediction in different way,individual probability for each class\n",
    "print(prediction)\n",
    "print(type(prediction),type(y1))"
   ]
  },
  {
   "cell_type": "code",
   "execution_count": 18,
   "metadata": {},
   "outputs": [
    {
     "name": "stdout",
     "output_type": "stream",
     "text": [
      "[[174  53  33   0  12   8]\n",
      " [ 54 186  35   1  11   4]\n",
      " [ 25  50 345   1  13   2]\n",
      " [  4   3  11  27   5   9]\n",
      " [ 22  20  24   1 183   6]\n",
      " [ 15   5  14   3  16 122]]\n"
     ]
    }
   ],
   "source": [
    "# different way to find out confusion matrix\n",
    "\n",
    "print(confusion_matrix(y1,y_pred))"
   ]
  },
  {
   "cell_type": "code",
   "execution_count": 19,
   "metadata": {},
   "outputs": [
    {
     "name": "stdout",
     "output_type": "stream",
     "text": [
      "              precision    recall  f1-score   support\n",
      "\n",
      "           0       0.59      0.62      0.61       280\n",
      "           1       0.59      0.64      0.61       291\n",
      "           2       0.75      0.79      0.77       436\n",
      "           3       0.82      0.46      0.59        59\n",
      "           4       0.76      0.71      0.74       256\n",
      "           5       0.81      0.70      0.75       175\n",
      "\n",
      "    accuracy                           0.69      1497\n",
      "   macro avg       0.72      0.65      0.68      1497\n",
      "weighted avg       0.70      0.69      0.69      1497\n",
      "\n"
     ]
    }
   ],
   "source": [
    "print(classification_report(y1,y_pred))"
   ]
  },
  {
   "cell_type": "code",
   "execution_count": null,
   "metadata": {},
   "outputs": [],
   "source": []
  }
 ],
 "metadata": {
  "kernelspec": {
   "display_name": "Python 3",
   "language": "python",
   "name": "python3"
  },
  "language_info": {
   "codemirror_mode": {
    "name": "ipython",
    "version": 3
   },
   "file_extension": ".py",
   "mimetype": "text/x-python",
   "name": "python",
   "nbconvert_exporter": "python",
   "pygments_lexer": "ipython3",
   "version": "3.7.3"
  }
 },
 "nbformat": 4,
 "nbformat_minor": 2
}
